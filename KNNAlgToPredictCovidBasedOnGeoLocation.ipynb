{
 "cells": [
  {
   "cell_type": "code",
   "execution_count": 1,
   "metadata": {},
   "outputs": [],
   "source": [
    "import pandas as pd\n",
    "import numpy as np\n",
    "import matplotlib.pyplot as plt\n",
    "import sklearn\n",
    "import requests\n",
    "import json\n"
   ]
  },
  {
   "cell_type": "code",
   "execution_count": 26,
   "metadata": {},
   "outputs": [
    {
     "name": "stdout",
     "output_type": "stream",
     "text": [
      "                        location country_code   latitude   longitude  \\\n",
      "0                         Anshun           cn  26.253088  105.947595   \n",
      "1         Wibaux County, Montana           us  46.783665 -104.318390   \n",
      "2                    Pilõezinhos           br  -6.843131  -35.530578   \n",
      "3                        Pavussu           br  -7.964325  -43.224345   \n",
      "4           Waller County, Texas           us  29.975163  -96.025574   \n",
      "...                          ...          ...        ...         ...   \n",
      "9890      Lincoln County, Kansas           us  39.113579  -98.221298   \n",
      "9891   Jones County, Mississippi           us  31.534324  -89.170600   \n",
      "9892         Rush County, Kansas           us  38.535897  -99.278558   \n",
      "9893      Cherokee County, Texas           us  31.798183  -95.143207   \n",
      "9894  Palm Beach County, Florida           us  26.651450  -80.276733   \n",
      "\n",
      "      confirmed   dead  recovered  velocity_confirmed  velocity_dead  \\\n",
      "0             4    0.0        4.0                   0              0   \n",
      "1             1    0.0        NaN                   0              0   \n",
      "2            87    0.0        NaN                   5              0   \n",
      "3             2    1.0        NaN                   0              0   \n",
      "4           377    4.0        NaN                  28             -2   \n",
      "...         ...    ...        ...                 ...            ...   \n",
      "9890          6    0.0        NaN                   0              0   \n",
      "9891       1591   56.0        NaN                  28              0   \n",
      "9892          5    0.0        NaN                   0              0   \n",
      "9893        655    4.0        NaN                   8              2   \n",
      "9894      30958  758.0        NaN                 633              3   \n",
      "\n",
      "      velocity_recovered                           updated  \n",
      "0                      0  2020-07-29 01:33:51.944148+00:00  \n",
      "1                      0  2020-07-29 01:30:41.051821+00:00  \n",
      "2                      0  2020-06-13 00:20:20.628942+00:00  \n",
      "3                      0  2020-06-13 00:20:19.650852+00:00  \n",
      "4                      0  2020-07-29 01:30:41.051821+00:00  \n",
      "...                  ...                               ...  \n",
      "9890                   0  2020-07-29 01:30:41.051821+00:00  \n",
      "9891                   0  2020-07-29 01:30:41.051821+00:00  \n",
      "9892                   0  2020-07-29 01:30:41.051821+00:00  \n",
      "9893                   0  2020-07-29 01:30:41.051821+00:00  \n",
      "9894                   0  2020-07-29 01:30:41.051821+00:00  \n",
      "\n",
      "[9895 rows x 11 columns]\n"
     ]
    },
    {
     "data": {
      "text/html": [
       "<div>\n",
       "<style scoped>\n",
       "    .dataframe tbody tr th:only-of-type {\n",
       "        vertical-align: middle;\n",
       "    }\n",
       "\n",
       "    .dataframe tbody tr th {\n",
       "        vertical-align: top;\n",
       "    }\n",
       "\n",
       "    .dataframe thead th {\n",
       "        text-align: right;\n",
       "    }\n",
       "</style>\n",
       "<table border=\"1\" class=\"dataframe\">\n",
       "  <thead>\n",
       "    <tr style=\"text-align: right;\">\n",
       "      <th></th>\n",
       "      <th>latitude</th>\n",
       "      <th>longitude</th>\n",
       "      <th>confirmed</th>\n",
       "    </tr>\n",
       "  </thead>\n",
       "  <tbody>\n",
       "    <tr>\n",
       "      <th>0</th>\n",
       "      <td>26.253088</td>\n",
       "      <td>105.947595</td>\n",
       "      <td>4</td>\n",
       "    </tr>\n",
       "    <tr>\n",
       "      <th>1</th>\n",
       "      <td>46.783665</td>\n",
       "      <td>-104.318390</td>\n",
       "      <td>1</td>\n",
       "    </tr>\n",
       "    <tr>\n",
       "      <th>2</th>\n",
       "      <td>-6.843131</td>\n",
       "      <td>-35.530578</td>\n",
       "      <td>87</td>\n",
       "    </tr>\n",
       "    <tr>\n",
       "      <th>3</th>\n",
       "      <td>-7.964325</td>\n",
       "      <td>-43.224345</td>\n",
       "      <td>2</td>\n",
       "    </tr>\n",
       "    <tr>\n",
       "      <th>4</th>\n",
       "      <td>29.975163</td>\n",
       "      <td>-96.025574</td>\n",
       "      <td>377</td>\n",
       "    </tr>\n",
       "  </tbody>\n",
       "</table>\n",
       "</div>"
      ],
      "text/plain": [
       "    latitude   longitude  confirmed\n",
       "0  26.253088  105.947595          4\n",
       "1  46.783665 -104.318390          1\n",
       "2  -6.843131  -35.530578         87\n",
       "3  -7.964325  -43.224345          2\n",
       "4  29.975163  -96.025574        377"
      ]
     },
     "execution_count": 26,
     "metadata": {},
     "output_type": "execute_result"
    }
   ],
   "source": [
    "\n",
    "\n",
    "#df_covid_current_states=pd.read_csv('https://covidtracking.com/api/v1/states/current.csv')\n",
    "#df_covid_current_states_updated=df_covid_current_states[['state','positive',]]\n",
    "#print(df_covid_current_states.head())\n",
    "#df_state_geo = pd.read_csv('https://raw.githubusercontent.com/kelvins/US-Cities-Database/master/csv/us_cities.csv')\n",
    "#print(df_state_geo.head())\n",
    "data_json=requests.get(url = 'https://www.trackcorona.live/api/cities').json()\n",
    "df_states = pd.read_json(json.dumps(data_json['data']))\n",
    "print(df_states)\n",
    "#df_states_needed = df_states[['latitude','longitude','confirmed','dead', 'recovered']]\n",
    "df_states_needed = df_states[['latitude','longitude','confirmed']]\n",
    "#df_covid_current_states = pd.read_json(d)\n",
    "df_states_needed.head()"
   ]
  },
  {
   "cell_type": "code",
   "execution_count": 10,
   "metadata": {},
   "outputs": [
    {
     "name": "stdout",
     "output_type": "stream",
     "text": [
      "(7916, 2)\n",
      "(1979, 2)\n"
     ]
    }
   ],
   "source": [
    "from sklearn.model_selection import train_test_split\n",
    "X=df_states_needed[['latitude','longitude']]\n",
    "y=df_states_needed['confirmed']\n",
    "X_train,X_test,y_train,y_test = train_test_split(X,y,test_size=0.2)\n",
    "print(X_train.shape)\n",
    "print(X_test.shape)"
   ]
  },
  {
   "cell_type": "code",
   "execution_count": 11,
   "metadata": {},
   "outputs": [
    {
     "name": "stdout",
     "output_type": "stream",
     "text": [
      "The covid confirmed today near to my home address is  [3650.88888889]\n",
      "r2  -0.4295370046305744  - 1\n",
      "-0.4295370046305744 - 1\n",
      "The MSE is: 61638507.605861545   1\n",
      "r2  -0.037866817677078  - 2\n",
      "-0.037866817677078 - 2\n",
      "The MSE is: 44750546.17546741   2\n",
      "r2  0.07605376532663799  - 3\n",
      "0.07605376532663799 - 3\n",
      "The MSE is: 39838539.9110662   3\n",
      "r2  0.12453192011237169  - 4\n",
      "0.12453192011237169 - 4\n",
      "The MSE is: 37748267.953922436   4\n",
      "r2  0.08326076368066004  - 5\n",
      "0.08326076368066004 - 5\n",
      "The MSE is: 39527789.911995955   5\n",
      "r2  0.09061065656265532  - 6\n",
      "0.09061065656265532 - 6\n",
      "The MSE is: 39210878.61355342   6\n",
      "r2  0.11966643069230398  - 7\n",
      "0.11966643069230398 - 7\n",
      "The MSE is: 37958057.21132091   7\n",
      "r2  0.146063240776368  - 8\n",
      "0.146063240776368 - 8\n",
      "The MSE is: 36819884.52053594   8\n",
      "r2  0.16282238699085627  - 9\n",
      "0.16282238699085627 - 9\n",
      "The MSE is: 36097266.80720404   9\n",
      "r2  0.17022433438695506  - 10\n",
      "0.17022433438695506 - 10\n",
      "The MSE is: 35778111.032016166   10\n",
      "r2  0.17283440618721047  - 11\n",
      "0.17283440618721047 - 11\n",
      "The MSE is: 35665570.447203904   11\n",
      "r2  0.1672680886176472  - 12\n",
      "0.1672680886176472 - 12\n",
      "The MSE is: 35905577.88089523   12\n",
      "r2  0.16358065061121563  - 13\n",
      "0.16358065061121563 - 13\n",
      "The MSE is: 36064572.13908466   13\n",
      "r2  0.16085735721767624  - 14\n",
      "0.16085735721767624 - 14\n",
      "The MSE is: 36181994.59125409   14\n",
      "r2  0.15796595259871715  - 15\n",
      "0.15796595259871715 - 15\n",
      "The MSE is: 36306665.631611936   15\n",
      "r2  0.15209159165899278  - 16\n",
      "0.15209159165899278 - 16\n",
      "The MSE is: 36559955.22138114   16\n",
      "r2  0.15092568184287558  - 17\n",
      "0.15092568184287558 - 17\n",
      "The MSE is: 36610226.701472744   17\n",
      "r2  0.14984809718031633  - 18\n",
      "0.14984809718031633 - 18\n",
      "The MSE is: 36656689.794211134   18\n",
      "r2  0.14929792306526246  - 19\n",
      "0.14929792306526246 - 19\n",
      "The MSE is: 36680412.098191686   19\n"
     ]
    },
    {
     "data": {
      "image/png": "[encoded data removed]",
      "text/plain": [
       "<Figure size 432x288 with 1 Axes>"
      ]
     },
     "metadata": {
      "needs_background": "light"
     },
     "output_type": "display_data"
    }
   ],
   "source": [
    "from sklearn.neighbors import KNeighborsRegressor\n",
    "from sklearn.metrics import mean_squared_error\n",
    "from sklearn import metrics\n",
    "knnr = KNeighborsRegressor(n_neighbors = 9)\n",
    "knnr.fit(X_train, y_train)\n",
    "a=[]\n",
    "b=[]\n",
    "print(\"The covid confirmed today near to my home address is \" , knnr.predict([[35.34,-80.62]]))\n",
    "for n_value in  range(1,20):\n",
    "    knnr = KNeighborsRegressor(n_neighbors = n_value)\n",
    "    knnr.fit(X_train, y_train)\n",
    "    a.append(n_value)\n",
    "    b.append(sklearn.metrics.r2_score(y_test,knnr.predict(X_test)))\n",
    "    #plt.scatter(x=n_value,y=format(np.power(y_test-knnr.predict(X_test),2).mean()),s=60,c='red')\n",
    "    print(\"r2 \", sklearn.metrics.r2_score(y_test,knnr.predict(X_test)),\" -\",n_value)\n",
    "    print(knnr.score(X_test,y_test), \"-\", n_value)\n",
    "    \n",
    "\n",
    "    print (\"The MSE is:\",mean_squared_error(y_test,knnr.predict(X_test)),\" \",n_value)\n",
    "plt.plot(a,b)\n",
    "plt.show()"
   ]
  },
  {
   "cell_type": "code",
   "execution_count": 24,
   "metadata": {},
   "outputs": [
    {
     "name": "stdout",
     "output_type": "stream",
     "text": [
      "35.0875836 -84.0346315\n",
      "Actual covid confirmed index based on your location is -  [160.55555556]\n"
     ]
    }
   ],
   "source": [
    "addressSearch = \"murphy 28906\"\n",
    "\n",
    "from sklearn.neighbors import KNeighborsRegressor\n",
    "from geopy.geocoders import Nominatim\n",
    "geolocator = Nominatim(user_agent=\"addresscodingLatLong\")\n",
    "location = geolocator.geocode(addressSearch)\n",
    "knnr = KNeighborsRegressor(n_neighbors = 9)\n",
    "knnr.fit(X_train, y_train)\n",
    "print(location.latitude,location.longitude)\n",
    "print(\"Actual covid confirmed index based on your location is - \", knnr.predict([[location.latitude,location.longitude]]))"
   ]
  }
 ],
 "metadata": {
  "kernelspec": {
   "display_name": "Python 3",
   "language": "python",
   "name": "python3"
  },
  "language_info": {
   "codemirror_mode": {
    "name": "ipython",
    "version": 3
   },
   "file_extension": ".py",
   "mimetype": "text/x-python",
   "name": "python",
   "nbconvert_exporter": "python",
   "pygments_lexer": "ipython3",
   "version": "3.7.0"
  }
 },
 "nbformat": 4,
 "nbformat_minor": 4
}
