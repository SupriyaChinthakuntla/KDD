{
 "cells": [
  {
   "cell_type": "code",
   "execution_count": 2,
   "metadata": {},
   "outputs": [],
   "source": [
    "import pandas as pd\n",
    "import numpy as np\n",
    "import matplotlib.pyplot as plt\n",
    "import sklearn\n",
    "import requests\n",
    "import json\n"
   ]
  },
  {
   "cell_type": "code",
   "execution_count": 3,
   "metadata": {},
   "outputs": [],
   "source": [
    "\n",
    "\n",
    "#df_covid_current_states=pd.read_csv('https://covidtracking.com/api/v1/states/current.csv')\n",
    "#df_covid_current_states_updated=df_covid_current_states[['state','positive',]]\n",
    "#print(df_covid_current_states.head())\n",
    "#df_state_geo = pd.read_csv('https://raw.githubusercontent.com/kelvins/US-Cities-Database/master/csv/us_cities.csv')\n",
    "#print(df_state_geo.head())\n",
    "data_json=requests.get(url = 'https://www.trackcorona.live/api/cities').json()\n",
    "df_states = pd.read_json(json.dumps(data_json['data']))\n",
    "df_states_needed = df_states[['latitude','longitude','confirmed']]\n",
    "#df_covid_current_states = pd.read_json(d)\n",
    "#df_covid_current_states.head()"
   ]
  },
  {
   "cell_type": "code",
   "execution_count": 4,
   "metadata": {},
   "outputs": [
    {
     "name": "stdout",
     "output_type": "stream",
     "text": [
      "(7915, 2)\n",
      "(1979, 2)\n"
     ]
    }
   ],
   "source": [
    "from sklearn.model_selection import train_test_split\n",
    "X=df_states_needed[['latitude','longitude']]\n",
    "y=df_states_needed['confirmed']\n",
    "X_train,X_test,y_train,y_test = train_test_split(X,y,test_size=0.2)\n",
    "print(X_train.shape)\n",
    "print(X_test.shape)"
   ]
  },
  {
   "cell_type": "code",
   "execution_count": 29,
   "metadata": {},
   "outputs": [
    {
     "name": "stdout",
     "output_type": "stream",
     "text": [
      "The covid confirmed today near to my home address is  [1332.88888889]\n",
      "The MSE is: 6.388677828574424e+17   1\n",
      "The MSE is: 1.9792577462293152e+17   2\n",
      "The MSE is: 1.2214478540975366e+17   3\n",
      "The MSE is: 1.0475984918657414e+17   4\n",
      "The MSE is: 9.169540906186451e+16   5\n",
      "The MSE is: 9.38446456408918e+16   6\n",
      "The MSE is: 9.235809703281462e+16   7\n",
      "The MSE is: 9.193617363208778e+16   8\n",
      "The MSE is: 9.437198009372029e+16   9\n"
     ]
    }
   ],
   "source": [
    "from sklearn.neighbors import KNeighborsRegressor\n",
    "from sklearn import metrics\n",
    "print(\"The covid confirmed today near to my home address is \" , knnr.predict([[35.34,-80.62]]))\n",
    "for n_value in  range(1,10):\n",
    "    knnr = KNeighborsRegressor(n_neighbors = n_value)\n",
    "    knnr.fit(X_train, y_train)\n",
    "\n",
    "    \n",
    "\n",
    "    print (\"The MSE is:\",format(np.power(y_test-knnr.predict(X_test),4).mean()),\" \",n_value)"
   ]
  }
 ],
 "metadata": {
  "kernelspec": {
   "display_name": "Python 3",
   "language": "python",
   "name": "python3"
  },
  "language_info": {
   "codemirror_mode": {
    "name": "ipython",
    "version": 3
   },
   "file_extension": ".py",
   "mimetype": "text/x-python",
   "name": "python",
   "nbconvert_exporter": "python",
   "pygments_lexer": "ipython3",
   "version": "3.7.0"
  }
 },
 "nbformat": 4,
 "nbformat_minor": 4
}
